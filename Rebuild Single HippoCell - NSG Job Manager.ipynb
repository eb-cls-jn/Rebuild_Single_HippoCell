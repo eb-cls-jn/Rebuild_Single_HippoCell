{
 "cells": [
  {
   "cell_type": "code",
   "execution_count": 1,
   "id": "electric-manor",
   "metadata": {},
   "outputs": [],
   "source": [
    "import warnings\n",
    "import requests\n",
    "import json\n",
    "import xml.etree.ElementTree\n",
    "from IPython.display import HTML, Javascript, display\n",
    "from ipywidgets.widgets import Button, Text, Password, VBox, HBox, Select, HTML as widgets_html"
   ]
  },
  {
   "cell_type": "code",
   "execution_count": 2,
   "id": "animal-market",
   "metadata": {},
   "outputs": [
    {
     "data": {
      "text/html": [
       "<style>\n",
       "    .widget-label { min-width: 17ex !important;}\n",
       "</style>"
      ],
      "text/plain": [
       "<IPython.core.display.HTML object>"
      ]
     },
     "metadata": {},
     "output_type": "display_data"
    },
    {
     "data": {
      "text/html": [
       "\n",
       "<script type=\"text/Javascript\">\n",
       "document.styleSheets[0].insertRule(\".widget-listbox.form-control { width: auto }\", 1);\n",
       "</script>\n"
      ],
      "text/plain": [
       "<IPython.core.display.HTML object>"
      ]
     },
     "metadata": {},
     "output_type": "display_data"
    }
   ],
   "source": [
    "display(HTML('''<style>\n",
    "    .widget-label { min-width: 17ex !important;}\n",
    "</style>'''))\n",
    "\n",
    "javascript2 = \"\"\"\n",
    "<script type=\"text/Javascript\">\n",
    "document.styleSheets[0].insertRule(\".widget-listbox.form-control { width: auto }\", 1);\n",
    "</script>\n",
    "\"\"\"\n",
    "h1=HTML(javascript2)\n",
    "h1.display='none'\n",
    "display(h1)"
   ]
  },
  {
   "cell_type": "code",
   "execution_count": 3,
   "id": "actual-following",
   "metadata": {},
   "outputs": [],
   "source": [
    "warnings.filterwarnings(\"ignore\")"
   ]
  },
  {
   "cell_type": "code",
   "execution_count": 4,
   "id": "coral-peripheral",
   "metadata": {},
   "outputs": [],
   "source": [
    "def checkloginNSG(_):\n",
    "    username = username_widget.value\n",
    "    password = password_widget.value\n",
    "    KEY = 'Application_Fitting-DA5A3D2F8B9B4A5D964D4D2285A49C57'\n",
    "    headers = {'cipres-appkey' : KEY}\n",
    "    URL = 'https://nsgr.sdsc.edu:8443/cipresrest/v1/job/'+username\n",
    "    r = requests.get(URL, auth=(username, password),headers=headers,verify=False)\n",
    "    root = xml.etree.ElementTree.fromstring(r.text)\n",
    "    a=0\n",
    "    for child in root:\n",
    "        if child.tag == 'displayMessage':\n",
    "            a=1\n",
    "            msg=child.text\n",
    "    if a==0:\n",
    "        msg='Authenticated successfully'\n",
    "        msg_widget.disabled=True\n",
    "        buttonlogin.disabled=True\n",
    "        username_widget.disabled=True\n",
    "        password_widget.disabled=True\n",
    "    msg_widget.value=msg\n",
    "    msg_widget.layout.display=''\n",
    "\n",
    "username_widget = Text(description='Username:')\n",
    "username_widget.layout.width='36%'\n",
    "password_widget = Password(description='Password:')\n",
    "buttonlogin = Button()\n",
    "buttonlogin.description = 'Login NSG'\n",
    "buttonlogin.background_color='gainsboro'\n",
    "buttonlogin.width='20%'\n",
    "buttonlogin.on_click(checkloginNSG)\n",
    "msg_widget = Text()\n",
    "msg_widget.layout.width='40%'\n",
    "msg_widget.layout.display='none'"
   ]
  },
  {
   "cell_type": "code",
   "execution_count": 5,
   "id": "informational-sweden",
   "metadata": {},
   "outputs": [
    {
     "data": {
      "application/vnd.jupyter.widget-view+json": {
       "model_id": "9f60f9ef87054f5381b8c439261eb197",
       "version_major": 2,
       "version_minor": 0
      },
      "text/plain": [
       "VBox(children=(Text(value='', description='Username:', layout=Layout(width='36%')), Password(description='Pass…"
      ]
     },
     "metadata": {},
     "output_type": "display_data"
    },
    {
     "data": {
      "application/vnd.jupyter.widget-view+json": {
       "model_id": "d9574029d21b4366b1081f3a3ddbc2dc",
       "version_major": 2,
       "version_minor": 0
      },
      "text/plain": [
       "Button(description='Job manager', style=ButtonStyle())"
      ]
     },
     "metadata": {},
     "output_type": "display_data"
    },
    {
     "data": {
      "application/vnd.jupyter.widget-view+json": {
       "model_id": "128253bf26d6423091b2d3ed83ab6f91",
       "version_major": 2,
       "version_minor": 0
      },
      "text/plain": [
       "Button(layout=Layout(display='none'), style=ButtonStyle())"
      ]
     },
     "metadata": {},
     "output_type": "display_data"
    },
    {
     "data": {
      "application/vnd.jupyter.widget-view+json": {
       "model_id": "2096973d640e46419dec84226fb88874",
       "version_major": 2,
       "version_minor": 0
      },
      "text/plain": [
       "HBox(children=(Text(value=''), Button(style=ButtonStyle()), Text(value='')), layout=Layout(display='none'))"
      ]
     },
     "metadata": {},
     "output_type": "display_data"
    },
    {
     "data": {
      "application/vnd.jupyter.widget-view+json": {
       "model_id": "a09505ee86854d2ab699971143d192ec",
       "version_major": 2,
       "version_minor": 0
      },
      "text/plain": [
       "HBox(children=(Select(options=(), value=None), Button(style=ButtonStyle()), Select(options=(None,), value=None…"
      ]
     },
     "metadata": {},
     "output_type": "display_data"
    },
    {
     "data": {
      "application/vnd.jupyter.widget-view+json": {
       "model_id": "8f768180ece440548f2f09dd7adfff57",
       "version_major": 2,
       "version_minor": 0
      },
      "text/plain": [
       "HTML(value='<input name=\"mioTesto\" type=\"text\" value=\"A\" style=\"color: white; background-color: black\" size=\"1…"
      ]
     },
     "metadata": {},
     "output_type": "display_data"
    }
   ],
   "source": [
    "def run_all(ev):\n",
    "    global username, password\n",
    "    username = username_widget.value\n",
    "    password = password_widget.value\n",
    "    button.layout.display = 'none'\n",
    "    %run \"manager.ipynb\"\n",
    "    \n",
    "formMNSG = VBox(children=[username_widget,password_widget,buttonlogin,msg_widget])\n",
    "display(formMNSG)\n",
    "\n",
    "button = Button(description=\"Job manager\")\n",
    "button.on_click(run_all)\n",
    "display(button)\n",
    "\n",
    "listtoprint = []\n",
    "listtoprint1 = []\n",
    "w4list = []\n",
    "\n",
    "BTR = Button()\n",
    "BTR.layout.display = 'none'\n",
    "w3D = Text()\n",
    "w3 = Select(options = listtoprint1)\n",
    "w4D = Text() \n",
    "w4 = Select(options = [None] + w4list)\n",
    "BTD = Button()\n",
    "BT = Button()\n",
    "\n",
    "listsD = [w3D, BTD, w4D]\n",
    "myboxD =HBox(children = listsD)\n",
    "myboxD.layout.display = 'none'\n",
    "\n",
    "lists = [w3, BT, w4]\n",
    "mybox = HBox(children = lists)\n",
    "mybox.layout.display = 'none'\n",
    "\n",
    "H1 = widgets_html('''<input name=\"mioTesto\" type=\"text\" value=%s style=\"color: white; background-color: black\" size=\"160\" maxlength=\"600\" id=\"testo\" />''' % json.dumps(\"A\"))\n",
    "H1.layout.display = 'none'\n",
    "\n",
    "display(BTR)\n",
    "display(myboxD)\n",
    "display(mybox)\n",
    "display(H1)"
   ]
  },
  {
   "cell_type": "code",
   "execution_count": 6,
   "id": "standing-uruguay",
   "metadata": {},
   "outputs": [
    {
     "data": {
      "text/html": [
       "\n",
       "<button class=\"toggle_button\" onclick=\"toggleCode(this)\">Show Code</button>\n",
       "<script>\n",
       "    function toggleCode(button) {\n",
       "        boxes = button.closest(\".jp-Notebook\").querySelectorAll(\".jp-Cell-inputWrapper\");\n",
       "        if (boxes[0].style.display == \"none\") {\n",
       "            boxes.forEach(box => box.style.display = '');\n",
       "            button.innerHTML = \"Hide Code\";\n",
       "        } else {\n",
       "            boxes.forEach(box => box.style.display = 'none');\n",
       "            button.innerHTML = \"Show Code\";\n",
       "        }\n",
       "    }\n",
       "    document.querySelectorAll(\".jp-Cell-inputWrapper\").forEach(box => box.style.display = 'none');\n",
       "</script>\n"
      ],
      "text/plain": [
       "<IPython.core.display.HTML object>"
      ]
     },
     "execution_count": 6,
     "metadata": {},
     "output_type": "execute_result"
    }
   ],
   "source": [
    "from IPython.display import HTML\n",
    "\n",
    "HTML('''\n",
    "<button class=\"toggle_button\" onclick=\"toggleCode(this)\">Show Code</button>\n",
    "<script>\n",
    "    function toggleCode(button) {\n",
    "        boxes = button.closest(\".jp-Notebook\").querySelectorAll(\".jp-Cell-inputWrapper\");\n",
    "        if (boxes[0].style.display == \"none\") {\n",
    "            boxes.forEach(box => box.style.display = '');\n",
    "            button.innerHTML = \"Hide Code\";\n",
    "        } else {\n",
    "            boxes.forEach(box => box.style.display = 'none');\n",
    "            button.innerHTML = \"Show Code\";\n",
    "        }\n",
    "    }\n",
    "    document.querySelectorAll(\".jp-Cell-inputWrapper\").forEach(box => box.style.display = 'none');\n",
    "</script>\n",
    "''')"
   ]
  }
 ],
 "metadata": {
  "kernelspec": {
   "display_name": "Python 3",
   "language": "python",
   "name": "python3"
  },
  "language_info": {
   "codemirror_mode": {
    "name": "ipython",
    "version": 3
   },
   "file_extension": ".py",
   "mimetype": "text/x-python",
   "name": "python",
   "nbconvert_exporter": "python",
   "pygments_lexer": "ipython3",
   "version": "3.6.9"
  }
 },
 "nbformat": 4,
 "nbformat_minor": 5
}
