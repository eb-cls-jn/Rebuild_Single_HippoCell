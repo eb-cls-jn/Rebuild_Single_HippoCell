{
 "cells": [
  {
   "cell_type": "code",
   "execution_count": 1,
   "id": "unlike-priority",
   "metadata": {},
   "outputs": [],
   "source": [
    "import os\n",
    "import warnings\n",
    "import shutil\n",
    "import logging\n",
    "import io\n",
    "import zipfile\n",
    "import neurom\n",
    "import matplotlib\n",
    "import json\n",
    "import requests\n",
    "import tarfile\n",
    "from neurom import viewer\n",
    "from ipywidgets.widgets import Select, Layout, Button, Image, Output, Label\n",
    "from IPython.display import HTML, Javascript, IFrame, display, clear_output\n",
    "\n",
    "warnings.filterwarnings(\"ignore\")"
   ]
  },
  {
   "cell_type": "code",
   "execution_count": 2,
   "id": "stuffed-aruba",
   "metadata": {},
   "outputs": [],
   "source": [
    "%%capture\n",
    "!pip install NEURON-nightly --upgrade\n",
    "!rm -rf /opt/app-root/lib/nrn"
   ]
  },
  {
   "cell_type": "code",
   "execution_count": 3,
   "id": "changed-warrior",
   "metadata": {},
   "outputs": [
    {
     "data": {
      "text/html": [
       "\n",
       "<script type=\"text/Javascript\">\n",
       "    document.styleSheets[0].insertRule(\".widget-listbox.form-control { width: auto }\", 1);\n",
       "    document.styleSheets[0].insertRule(\".form_login > label { width: 30% }\", 1);\n",
       "    document.styleSheets[0].insertRule(\".form_login > label + input { width: 70% }\", 1);\n",
       "</script>\n"
      ],
      "text/plain": [
       "<IPython.core.display.HTML object>"
      ]
     },
     "metadata": {},
     "output_type": "display_data"
    }
   ],
   "source": [
    "# move to BPOPTANALYSIS folder\n",
    "if os.path.isdir('BPOPTANALYSIS') == True:\n",
    "    shutil.rmtree('BPOPTANALYSIS')\n",
    "    \n",
    "!mkdir BPOPTANALYSIS\n",
    "os.chdir(\"BPOPTANALYSIS\")\n",
    "\n",
    "h0 = HTML(\"\"\"\n",
    "<style>\n",
    "    .widget-label { min-width: 17ex !important;}\n",
    "</style>\n",
    "\"\"\")\n",
    "\n",
    "js_code = \"\"\"\n",
    "<script type=\"text/Javascript\">\n",
    "    document.styleSheets[0].insertRule(\".widget-listbox.form-control { width: auto }\", 1);\n",
    "    document.styleSheets[0].insertRule(\".form_login > label { width: 30% }\", 1);\n",
    "    document.styleSheets[0].insertRule(\".form_login > label + input { width: 70% }\", 1);\n",
    "</script>\n",
    "\"\"\"\n",
    "\n",
    "h1 = HTML(js_code)\n",
    "h1.display = 'none'\n",
    "display(h1)"
   ]
  },
  {
   "cell_type": "code",
   "execution_count": 4,
   "id": "linear-development",
   "metadata": {},
   "outputs": [],
   "source": [
    "%%capture\n",
    "URL=('https://object.cscs.ch/v1/AUTH_c0a333ecf7c045809321ce9d9ecdfdea/hippocampus_optimization/bsp_data_repository-4.0.5_Python3.tar.gz')\n",
    "!wget \"{URL}\"\n",
    "!tar -zxvf bsp_data_repository-4.0.5_Python3.tar.gz"
   ]
  },
  {
   "cell_type": "code",
   "execution_count": 5,
   "id": "moral-bridal",
   "metadata": {},
   "outputs": [],
   "source": [
    "os.chdir('bsp_data_repository-4.0.5_Python3/optimizations')\n",
    "\n",
    "FD = [x for x in os.listdir('.') if x not in ['README']]\n",
    "\n",
    "for i in range(len(FD)):\n",
    "    shutil.copytree(FD[i], os.path.join('..', '..', FD[i]))\n",
    "    \n",
    "os.chdir('../..')"
   ]
  },
  {
   "cell_type": "code",
   "execution_count": 6,
   "id": "fifteen-glance",
   "metadata": {},
   "outputs": [],
   "source": [
    "logger = logging.getLogger()\n",
    "logging.disable(logging.WARNING)"
   ]
  },
  {
   "cell_type": "code",
   "execution_count": 7,
   "id": "stainless-hands",
   "metadata": {},
   "outputs": [],
   "source": [
    "def plot_to_html(plt):\n",
    "    buf = io.BytesIO()\n",
    "    plt.savefig(buf, format='png')\n",
    "    buf.seek(0)\n",
    "    return \"<img src='data:image/png;base64,{}'/>\".format(base64.b64encode(buf.getvalue()).decode('ascii'))"
   ]
  },
  {
   "cell_type": "code",
   "execution_count": 8,
   "id": "hungarian-collect",
   "metadata": {},
   "outputs": [
    {
     "data": {
      "application/vnd.jupyter.widget-view+json": {
       "model_id": "471cb43170124005bea7a3d1c57942e0",
       "version_major": 2,
       "version_minor": 0
      },
      "text/plain": [
       "Select(description='Files are located on', layout=Layout(height='100px', width='50%'), options=('GitHub', 'Sto…"
      ]
     },
     "metadata": {},
     "output_type": "display_data"
    },
    {
     "data": {
      "application/vnd.jupyter.widget-view+json": {
       "model_id": "e80ecd34806e4e938dd2e322bd599902",
       "version_major": 2,
       "version_minor": 0
      },
      "text/plain": [
       "Select(description='optimizations', layout=Layout(height='100px', width='50%'), options=('CA1_int_bAC_011017HP…"
      ]
     },
     "metadata": {},
     "output_type": "display_data"
    },
    {
     "data": {
      "application/vnd.jupyter.widget-view+json": {
       "model_id": "5db98da68bf9477b8ea71c036c384a4c",
       "version_major": 2,
       "version_minor": 0
      },
      "text/plain": [
       "Label(value='No zip or tar archive inside the chosen directory!')"
      ]
     },
     "metadata": {},
     "output_type": "display_data"
    }
   ],
   "source": [
    "FS = ['GitHub', 'Storage']\n",
    "c1 = Select(description='Files are located on', options=FS, layout=Layout(height='100px', width='50%'), style={'description_width':'initial'}, value=FS[0])\n",
    "display(c1)\n",
    "list_fd = sorted(FD)\n",
    "w3 = Select(description='optimizations', options=list_fd, layout=Layout(height='100px', width='50%'), value=list_fd[0])\n",
    "display(w3)\n",
    "message = Label(\"No zip or tar archive inside the chosen directory!\")\n",
    "display(message)\n",
    "message.layout.display='none'"
   ]
  },
  {
   "cell_type": "code",
   "execution_count": 9,
   "id": "boxed-winter",
   "metadata": {},
   "outputs": [],
   "source": [
    "os.chdir(w3.value)\n",
    "for files in os.listdir('.'):\n",
    "    if files.endswith('.zip'):\n",
    "        zip_ref = zipfile.ZipFile(files, 'r')\n",
    "        zip_ref.extractall()\n",
    "        zip_ref.close() "
   ]
  },
  {
   "cell_type": "code",
   "execution_count": 10,
   "id": "postal-orleans",
   "metadata": {},
   "outputs": [],
   "source": [
    "os.chdir(w3.value)\n",
    "os.chdir('morphology')\n",
    "for files in os.listdir('.'):\n",
    "    if files.endswith(\".asc\"):\n",
    "        nrn = neurom.load_neuron(files);"
   ]
  },
  {
   "cell_type": "code",
   "execution_count": 11,
   "id": "acceptable-productivity",
   "metadata": {},
   "outputs": [
    {
     "data": {
      "application/vnd.jupyter.widget-view+json": {
       "model_id": "4f9aa511c29340749c3a8eca81877159",
       "version_major": 2,
       "version_minor": 0
      },
      "text/plain": [
       "Image(value=b'\\x89PNG\\r\\n\\x1a\\n\\x00\\x00\\x00\\rIHDR\\x00\\x00\\x02\\x80\\x00\\x00\\x01\\xe0\\x08\\x06\\x00\\x00\\x005\\xd1\\xdc…"
      ]
     },
     "metadata": {},
     "output_type": "display_data"
    }
   ],
   "source": [
    "%matplotlib agg\n",
    "plt, ax = viewer.draw(nrn, mode='2d')\n",
    "plt.savefig(\"{}.png\".format(w3.value))\n",
    "plt.clear()\n",
    "\n",
    "%matplotlib inline\n",
    "file = open(\"{}.png\".format(w3.value), \"rb\")\n",
    "image = file.read()\n",
    "out1 = Image(value=image, format='png', width=400, height=500)\n",
    "display(out1)"
   ]
  },
  {
   "cell_type": "code",
   "execution_count": 12,
   "id": "similar-carry",
   "metadata": {},
   "outputs": [
    {
     "data": {
      "application/vnd.jupyter.widget-view+json": {
       "model_id": "816974f684ab46bcbd01b2564b74f968",
       "version_major": 2,
       "version_minor": 0
      },
      "text/plain": [
       "Output()"
      ]
     },
     "metadata": {},
     "output_type": "display_data"
    }
   ],
   "source": [
    "os.chdir('../../..')\n",
    "out = Output()\n",
    "display(out)"
   ]
  },
  {
   "cell_type": "code",
   "execution_count": 13,
   "id": "critical-thailand",
   "metadata": {},
   "outputs": [],
   "source": [
    "def on_w3_clicked(change):\n",
    "    out1.layout.display = 'none'\n",
    "    message.layout.display = 'none'\n",
    "    with out:\n",
    "        clear_output()\n",
    "    %matplotlib agg\n",
    "    BTV.disabled=True\n",
    "    BTS.disabled=True\n",
    "    if c1.value == 'GitHub':\n",
    "        os.chdir(w3.value)\n",
    "        for files in os.listdir('.'):\n",
    "            if files.endswith('.zip'):\n",
    "                zip_ref = zipfile.ZipFile(files, 'r')\n",
    "                zip_ref.extractall()\n",
    "                zip_ref.close() \n",
    "        os.chdir(w3.value)\n",
    "        os.chdir('morphology')\n",
    "        for files in os.listdir('.'):\n",
    "            if files.endswith(\".asc\"):\n",
    "                nrn = neurom.load_neuron(files);\n",
    "        plt,ax=viewer.draw(nrn, mode='2d');\n",
    "        for files in os.listdir('.'):\n",
    "            if files.endswith('.png'):\n",
    "                os.remove(files)\n",
    "        plt.savefig(\"{}.png\".format(w3.value))\n",
    "        plt.clear()\n",
    "        %matplotlib inline\n",
    "        file = open(\"{}.png\".format(w3.value), \"rb\")\n",
    "        image = file.read()\n",
    "        out1.value=image\n",
    "        out1.layout.display=''\n",
    "        os.chdir('../../..')    \n",
    "    else:\n",
    "        if len(w3.options) != 0:\n",
    "            hdr = clb_oauth.get_token()\n",
    "            my_url = \"https://iam.ebrains.eu/auth/realms/hbp/protocol/openid-connect/userinfo\"\n",
    "            headers = {'Authorization': 'Bearer ' + hdr}\n",
    "            res = requests.get(my_url, headers = headers)\n",
    "            if os.path.isdir(w3.value) == False:\n",
    "                os.mkdir(w3.value)\n",
    "            os.chdir(\"..\")\n",
    "            for name in ['BluePyOptAll', 'BluePyOptOne']:\n",
    "                path_to_dir = os.path.join(name, 'resultsNSG', str(res.json()['preferred_username']), w3.value)\n",
    "                if os.path.exists(path_to_dir):\n",
    "                    for f in [folder for folder in os.listdir(path_to_dir) if folder[0] != \".\"]:\n",
    "                        shutil.copy2(os.path.join(path_to_dir, f), os.path.join(\"BPOPTANALYSIS\", w3.value, f))\n",
    "             \n",
    "            for name in ['results', 'resultsPizdaint-SA']:\n",
    "                path_to_dir = os.path.join(name, w3.value)\n",
    "                if os.path.exists(path_to_dir):\n",
    "                    for f in [folder for folder in os.listdir(path_to_dir) if folder[0] != \".\"]:\n",
    "                        shutil.copy2(os.path.join(path_to_dir, f), os.path.join(\"BPOPTANALYSIS\", w3.value, f))\n",
    "                        \n",
    "            os.chdir(os.path.join(\"BPOPTANALYSIS\", w3.value))\n",
    "            is_valid = True\n",
    "            if any(f.endswith(\".tar.gz\") for f in os.listdir(\".\")):\n",
    "                ff = tarfile.open(\"output.tar.gz\")\n",
    "                ff.extractall(os.path.join('..', 'OUTPUTBPOPT', w3.value))\n",
    "                ff.close()\n",
    "                os.chdir(os.path.join('..', 'OUTPUTBPOPT', w3.value))\n",
    "            elif any(f.endswith(\".zip\") for f in os.listdir(\".\")):\n",
    "                zip_ref = zipfile.ZipFile('output.zip', 'r')\n",
    "                zip_ref.extractall(os.path.join('..', 'OUTPUTBPOPT', w3.value))\n",
    "                zip_ref.close() \n",
    "                os.chdir(os.path.join('..', 'OUTPUTBPOPT', w3.value))\n",
    "            else:\n",
    "                is_valid = False\n",
    "                message.layout.display=''\n",
    "            if is_valid:\n",
    "                for files in os.listdir('.'):\n",
    "                    if os.path.isdir(files):\n",
    "                        foldername1=files\n",
    "\n",
    "                os.chdir(foldername1 + \"/morphology\")  \n",
    "                for files in os.listdir('.'):\n",
    "                    if files.endswith(\".asc\"):\n",
    "                        nrn = neurom.load_neuron(files);\n",
    "                plt,ax=viewer.draw(nrn, mode='2d');\n",
    "                for files in os.listdir('.'):\n",
    "                    if files.endswith('.png'):\n",
    "                        os.remove(files)\n",
    "                plt.savefig(\"{}.png\".format(w3.value))\n",
    "                plt.clear()\n",
    "                %matplotlib inline\n",
    "                file = open(\"{}.png\".format(w3.value), \"rb\")\n",
    "                image = file.read()\n",
    "                out1.value=image\n",
    "                out1.layout.display=''\n",
    "                os.chdir('../../..')\n",
    "            os.chdir(\"..\")\n",
    "    BTV.disabled=False\n",
    "    \n",
    "w3.observe(on_w3_clicked, names='value')"
   ]
  },
  {
   "cell_type": "code",
   "execution_count": 14,
   "id": "prospective-outside",
   "metadata": {},
   "outputs": [],
   "source": [
    "def on_c1_clicked(change):\n",
    "    out1.layout.display='none'\n",
    "    with out:\n",
    "        clear_output()\n",
    "    BTV.disabled=True\n",
    "    BTS.disabled=True\n",
    "    w3.layout.display='none'\n",
    "    if c1.value == 'GitHub':\n",
    "        w3.options = sorted(FD)\n",
    "        w3.layout.display=''\n",
    "        w3.value = w3.options[1]\n",
    "        message.layout.display='none'\n",
    "        BTV.disabled=False\n",
    "    else:\n",
    "        hdr = clb_oauth.get_token()\n",
    "        headers = {'Authorization': 'Bearer ' + hdr}\n",
    "        my_url = \"https://iam.ebrains.eu/auth/realms/hbp/protocol/openid-connect/userinfo\"\n",
    "        res = requests.get(my_url, headers = headers)\n",
    "        w3list = []\n",
    "        \n",
    "        for name in ['BluePyOptAll', 'BluePyOptOne']:\n",
    "            path_to_dir = os.path.join(\"..\", name, 'resultsNSG', str(res.json()['preferred_username']))\n",
    "            if os.path.exists(path_to_dir):\n",
    "                w3list.extend([folder for folder in os.listdir(path_to_dir) if folder[0] != \".\"])\n",
    "        \n",
    "        for name in ['results', 'resultsPizdaint-SA']:\n",
    "            path_to_dir = os.path.join(\"..\", name)\n",
    "            if os.path.exists(path_to_dir):\n",
    "                w3list.extend([folder for folder in os.listdir(path_to_dir) if folder[0] != \".\"])\n",
    "\n",
    "        w3list2=[]\n",
    "        for file in w3list:\n",
    "            w3list2.append(file[file.find('/')+1:len(file)])\n",
    "\n",
    "        w3list=w3list2\n",
    "        if len(w3list) != 0:\n",
    "            w3.options = sorted(w3list)\n",
    "            w3.layout.display = ''\n",
    "            w3.value = w3.options[1]\n",
    "            BTV.disabled = False\n",
    "        else:\n",
    "            w3.options = []\n",
    "            w3.layout.display = 'none'\n",
    "            with out:\n",
    "                clear_output()\n",
    "            out1.layout.display = 'none'\n",
    "                \n",
    "c1.observe(on_c1_clicked, names='value')"
   ]
  },
  {
   "cell_type": "code",
   "execution_count": 15,
   "id": "abroad-muslim",
   "metadata": {},
   "outputs": [],
   "source": [
    "def runanalysis2(_):\n",
    "    BTV.disabled = True\n",
    "    BTS.disabled = True\n",
    "    if c1.value == 'GitHub':\n",
    "        os.chdir(w3.value)\n",
    "        data = json.load(open(w3.value + '_meta.json'))\n",
    "        os.chdir(w3.value)\n",
    "        os.chdir('figures')\n",
    "        with out:\n",
    "            display(\n",
    "                IFrame(\n",
    "                    os.path.join(\n",
    "                        '.',\n",
    "                        'BPOPTANALYSIS',\n",
    "                        w3.value,\n",
    "                        w3.value,\n",
    "                        'figures',\n",
    "                        'neuron_evolution' + '_' + data['best_run'][0:data['best_run'].find('.pkl')] + '.pdf'\n",
    "                    ),\n",
    "                    width=600,\n",
    "                    height=300\n",
    "                )\n",
    "            )\n",
    "            display(\n",
    "                IFrame(\n",
    "                    os.path.join(\n",
    "                        '.',\n",
    "                        'BPOPTANALYSIS',\n",
    "                        w3.value,\n",
    "                        w3.value,\n",
    "                        'figures',\n",
    "                        'neuron_objectives' + '_' + data['best_run'][0:data['best_run'].find('.pkl')] + '.pdf'\n",
    "                    ),\n",
    "                    width=600,\n",
    "                    height=300\n",
    "                )\n",
    "            )\n",
    "            display(\n",
    "                IFrame(\n",
    "                    os.path.join(\n",
    "                        '.',\n",
    "                        'BPOPTANALYSIS',\n",
    "                        w3.value,\n",
    "                        w3.value,\n",
    "                        'figures',\n",
    "                        'neuron_responses' + '_' + data['best_run'][0:data['best_run'].find('.pkl')]+'.pdf'\n",
    "                    ),\n",
    "                    width=600, \n",
    "                    height=300\n",
    "                )\n",
    "            )\n",
    "        os.chdir('../../..')\n",
    "        BTS.disabled = False\n",
    "    else:\n",
    "        os.chdir(\"OUTPUTBPOPT\")\n",
    "        if len(w3.options)!=0:\n",
    "            os.chdir(w3.value)\n",
    "            for files in os.listdir('.'):\n",
    "                if os.path.isdir(files):\n",
    "                    foldername1=files\n",
    "            os.chdir(foldername1)\n",
    "            if not(any(os.path.isdir(File) and File.endswith('figures') for File in os.listdir(\".\"))):\n",
    "                os.mkdir('figures')                \n",
    "            os.chdir('figures')\n",
    "            for files in os.listdir('.'):\n",
    "                os.remove(files)\n",
    "            os.chdir('../checkpoints')\n",
    "            if not os.listdir('.'):\n",
    "                BTS.disabled=True\n",
    "                os.chdir('../../../..')\n",
    "            else:\n",
    "                if 'checkpoint.pkl' not in os.listdir('.'):\n",
    "                    for files in os.listdir('.'):\n",
    "                        if files.endswith('pkl'):\n",
    "                            shutil.copy(files, 'checkpoint.pkl')\n",
    "                os.chdir('..')\n",
    "                if os.path.isdir('x86_64')==True:\n",
    "                    shutil.rmtree('x86_64')\n",
    "                if os.path.isdir('r_0')==True:\n",
    "                    shutil.rmtree('r_0')\n",
    "                os.mkdir('r_0')\n",
    "                myvar = !nrnivmodl mechanisms\n",
    "                myvar = !python opt_neuron.py --analyse --checkpoint ./checkpoints/\n",
    "                os.chdir('figures')\n",
    "                with out:\n",
    "                    display(\n",
    "                        IFrame(\n",
    "                            os.path.join(\n",
    "                                '.',\n",
    "                                'BPOPTANALYSIS',\n",
    "                                'OUTPUTBPOPT',\n",
    "                                w3.value,\n",
    "                                foldername1,\n",
    "                                'figures',\n",
    "                                'neuron_evolution_checkpoint_0-.pdf'\n",
    "                            ),\n",
    "                            width=600,\n",
    "                            height=300\n",
    "                        )\n",
    "                    )\n",
    "                    display(\n",
    "                        IFrame(\n",
    "                            os.path.join(\n",
    "                                '.',\n",
    "                                'BPOPTANALYSIS',\n",
    "                                'OUTPUTBPOPT',\n",
    "                                w3.value,\n",
    "                                foldername1,\n",
    "                                'figures',\n",
    "                                'neuron_objectives_checkpoint_0-.pdf'\n",
    "                            ),\n",
    "                            width=600,\n",
    "                            height=300\n",
    "                        )\n",
    "                    )\n",
    "                    display(\n",
    "                        IFrame(\n",
    "                            os.path.join(\n",
    "                                '.',\n",
    "                                'BPOPTANALYSIS',\n",
    "                                'OUTPUTBPOPT',\n",
    "                                w3.value,\n",
    "                                foldername1,\n",
    "                                'figures',\n",
    "                                'neuron_responses_checkpoint_0-.pdf'\n",
    "                            ),\n",
    "                            width=600,\n",
    "                            height=300\n",
    "                        )\n",
    "                    )\n",
    "                os.chdir('../../../..')\n",
    "                BTS.disabled = False"
   ]
  },
  {
   "cell_type": "code",
   "execution_count": 16,
   "id": "electronic-parliament",
   "metadata": {},
   "outputs": [],
   "source": [
    "def saveanalysis(_):\n",
    "    BTV.disabled=True\n",
    "    BTS.disabled=True\n",
    "    storeto_path1 = os.path.join(\"BluePyOptAnalysis\")\n",
    "    if not os.path.exists(storeto_path1):\n",
    "        os.mkdir(storeto_path1)\n",
    "    hdr = clb_oauth.get_token()\n",
    "    my_url = \"https://iam.ebrains.eu/auth/realms/hbp/protocol/openid-connect/userinfo\"\n",
    "    headers = {'Authorization':'Bearer ' + hdr}\n",
    "    res = requests.get(my_url, headers = headers)\n",
    "    storeto_path2 = os.path.join(storeto_path1, str(res.json()['preferred_username']))\n",
    "    if not os.path.exists(storeto_path2):\n",
    "        os.mkdir(storeto_path2)        \n",
    "    storeto = os.path.join(storeto_path2,w3.value)\n",
    "    if not os.path.exists(storeto):\n",
    "        os.mkdir(storeto)\n",
    "        if c1.value=='GitHub':\n",
    "            os.chdir(w3.value)\n",
    "            data = json.load(open(w3.value + '_meta.json'))\n",
    "            os.chdir(w3.value + \"/figures\")\n",
    "            f = str('neuron_evolution' + '_' + data['best_run'][0:data['best_run'].find('.pkl')] + '.pdf')\n",
    "            shutil.copy2(f, os.path.join(\"../../..\", storeto, f))\n",
    "            f = str('neuron_objectives' + '_' + data['best_run'][0:data['best_run'].find('.pkl')] + '.pdf')\n",
    "            shutil.copy2(f, os.path.join(\"../../..\", storeto, f))\n",
    "            f = str('neuron_responses' + '_' + data['best_run'][0:data['best_run'].find('.pkl')] + '.pdf')\n",
    "            shutil.copy2(f, os.path.join(\"../../..\", storeto, f))\n",
    "            os.chdir('../checkpoints')\n",
    "            f = str('cell' + '_' + data['best_run'][0:data['best_run'].find('.pkl')] + '_0' + '.hoc')\n",
    "            shutil.copy2(f, os.path.join(\"../../..\", storeto, f))\n",
    "            os.chdir('../../..')\n",
    "        else:\n",
    "            os.chdir(os.path.join(\"OUTPUTBPOPT\", w3.value))\n",
    "            for files in os.listdir('.'):\n",
    "                if os.path.isdir(files):\n",
    "                    foldername1=files\n",
    "            os.chdir(os.path.join(foldername1, 'figures'))\n",
    "            f = 'neuron_evolution_checkpoint_0-.pdf'\n",
    "            shutil.copy2(f, os.path.join(\"../../../..\", storeto, f))\n",
    "            f = 'neuron_objectives_checkpoint_0-.pdf'\n",
    "            shutil.copy2(f, os.path.join(\"../../../..\", storeto, f))\n",
    "            f = 'neuron_responses_checkpoint_0-.pdf'\n",
    "            shutil.copy2(f, os.path.join(\"../../../..\", storeto, f))\n",
    "            os.chdir('../checkpoints')\n",
    "            f = 'cell_checkpoint_0.hoc'\n",
    "            shutil.copy2(f, os.path.join(\"../../../..\", storeto, f))\n",
    "            os.chdir('../../../..')"
   ]
  },
  {
   "cell_type": "code",
   "execution_count": 17,
   "id": "becoming-chicago",
   "metadata": {},
   "outputs": [
    {
     "data": {
      "application/vnd.jupyter.widget-view+json": {
       "model_id": "e7a05455fce34cb9977e4e81cbdd2c50",
       "version_major": 2,
       "version_minor": 0
      },
      "text/plain": [
       "Button(description='View analysis', style=ButtonStyle())"
      ]
     },
     "metadata": {},
     "output_type": "display_data"
    },
    {
     "data": {
      "application/vnd.jupyter.widget-view+json": {
       "model_id": "55b562d5f62547babeed1e96fa20b8a0",
       "version_major": 2,
       "version_minor": 0
      },
      "text/plain": [
       "Button(description='Save analysis', disabled=True, style=ButtonStyle())"
      ]
     },
     "metadata": {},
     "output_type": "display_data"
    }
   ],
   "source": [
    "BTV = Button()\n",
    "BTV.description = 'View analysis'\n",
    "BTV.background_color = 'gainsboro'\n",
    "BTV.border_color = 'black'\n",
    "BTV.on_click(runanalysis2)\n",
    "display(BTV)\n",
    "\n",
    "BTS = Button()\n",
    "BTS.description = 'Save analysis'\n",
    "BTS.background_color = 'gainsboro'\n",
    "BTS.border_color = 'black'\n",
    "BTS.on_click(saveanalysis)\n",
    "BTS.disabled=True\n",
    "display(BTS)"
   ]
  },
  {
   "cell_type": "code",
   "execution_count": 18,
   "id": "placed-creek",
   "metadata": {},
   "outputs": [
    {
     "data": {
      "text/html": [
       "\n",
       "<button class=\"toggle_button\" onclick=\"toggleCode(this)\">Show Code</button>\n",
       "<script>\n",
       "    function toggleCode(button) {\n",
       "        boxes = button.closest(\".jp-Notebook\").querySelectorAll(\".jp-Cell-inputWrapper\");\n",
       "        if (boxes[0].style.display == \"none\") {\n",
       "            boxes.forEach(box => box.style.display = '');\n",
       "            button.innerHTML = \"Hide Code\";\n",
       "        } else {\n",
       "            boxes.forEach(box => box.style.display = 'none');\n",
       "            button.innerHTML = \"Show Code\";\n",
       "        }\n",
       "    }\n",
       "    document.querySelectorAll(\".jp-Cell-inputWrapper\").forEach(box => box.style.display = 'none');\n",
       "</script>\n"
      ],
      "text/plain": [
       "<IPython.core.display.HTML object>"
      ]
     },
     "execution_count": 18,
     "metadata": {},
     "output_type": "execute_result"
    }
   ],
   "source": [
    "from IPython.display import HTML\n",
    "\n",
    "HTML('''\n",
    "<button class=\"toggle_button\" onclick=\"toggleCode(this)\">Show Code</button>\n",
    "<script>\n",
    "    function toggleCode(button) {\n",
    "        boxes = button.closest(\".jp-Notebook\").querySelectorAll(\".jp-Cell-inputWrapper\");\n",
    "        if (boxes[0].style.display == \"none\") {\n",
    "            boxes.forEach(box => box.style.display = '');\n",
    "            button.innerHTML = \"Hide Code\";\n",
    "        } else {\n",
    "            boxes.forEach(box => box.style.display = 'none');\n",
    "            button.innerHTML = \"Show Code\";\n",
    "        }\n",
    "    }\n",
    "    document.querySelectorAll(\".jp-Cell-inputWrapper\").forEach(box => box.style.display = 'none');\n",
    "</script>\n",
    "''')"
   ]
  }
 ],
 "metadata": {
  "kernelspec": {
   "display_name": "Python 3",
   "language": "python",
   "name": "python3"
  },
  "language_info": {
   "codemirror_mode": {
    "name": "ipython",
    "version": 3
   },
   "file_extension": ".py",
   "mimetype": "text/x-python",
   "name": "python",
   "nbconvert_exporter": "python",
   "pygments_lexer": "ipython3",
   "version": "3.6.9"
  }
 },
 "nbformat": 4,
 "nbformat_minor": 5
}
